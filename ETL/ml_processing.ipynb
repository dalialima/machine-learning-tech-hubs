{
  "nbformat": 4,
  "nbformat_minor": 0,
  "metadata": {
    "colab": {
      "name": "ml-processing.ipynb",
      "provenance": [],
      "collapsed_sections": [],
      "authorship_tag": "ABX9TyNnThXMezEgX0C8bRXJs1bY",
      "include_colab_link": true
    },
    "kernelspec": {
      "name": "python3",
      "display_name": "Python 3"
    }
  },
  "cells": [
    {
      "cell_type": "markdown",
      "metadata": {
        "id": "view-in-github",
        "colab_type": "text"
      },
      "source": [
        "<a href=\"https://colab.research.google.com/github/joshuajonme/machine-learning-tech-hubs/blob/aws-features/ml_processing.ipynb\" target=\"_parent\"><img src=\"https://colab.research.google.com/assets/colab-badge.svg\" alt=\"Open In Colab\"/></a>"
      ]
    },
    {
      "cell_type": "code",
      "metadata": {
        "colab": {
          "base_uri": "https://localhost:8080/"
        },
        "id": "ycNfxnb0I5VI",
        "outputId": "8c2a0459-b18e-4fbd-c366-411f2d3a37ec"
      },
      "source": [
        "import os\n",
        "# Find the latest version of spark 3.0  from http://www-us.apache.org/dist/spark/ and enter as the spark version\n",
        "# For example:\n",
        "# spark_version = 'spark-3.0.1'\n",
        "spark_version = 'spark-3.0.1'\n",
        "os.environ['SPARK_VERSION']=spark_version\n",
        "\n",
        "# Install Spark and Java\n",
        "!apt-get update\n",
        "!apt-get install openjdk-11-jdk-headless -qq > /dev/null\n",
        "!wget -q http://www-us.apache.org/dist/spark/$SPARK_VERSION/$SPARK_VERSION-bin-hadoop2.7.tgz\n",
        "!tar xf $SPARK_VERSION-bin-hadoop2.7.tgz\n",
        "!pip install -q findspark\n",
        "\n",
        "# Set Environment Variables\n",
        "os.environ[\"JAVA_HOME\"] = \"/usr/lib/jvm/java-11-openjdk-amd64\"\n",
        "os.environ[\"SPARK_HOME\"] = f\"/content/{spark_version}-bin-hadoop2.7\"\n",
        "\n",
        "# Start a SparkSession\n",
        "import findspark\n",
        "findspark.init()"
      ],
      "execution_count": 1,
      "outputs": [
        {
          "output_type": "stream",
          "text": [
            "Get:1 https://cloud.r-project.org/bin/linux/ubuntu bionic-cran40/ InRelease [3,626 B]\n",
            "Ign:2 https://developer.download.nvidia.com/compute/cuda/repos/ubuntu1804/x86_64  InRelease\n",
            "Ign:3 https://developer.download.nvidia.com/compute/machine-learning/repos/ubuntu1804/x86_64  InRelease\n",
            "Hit:4 https://developer.download.nvidia.com/compute/cuda/repos/ubuntu1804/x86_64  Release\n",
            "Hit:5 https://developer.download.nvidia.com/compute/machine-learning/repos/ubuntu1804/x86_64  Release\n",
            "Get:6 http://security.ubuntu.com/ubuntu bionic-security InRelease [88.7 kB]\n",
            "Get:7 http://ppa.launchpad.net/c2d4u.team/c2d4u4.0+/ubuntu bionic InRelease [15.9 kB]\n",
            "Hit:9 http://archive.ubuntu.com/ubuntu bionic InRelease\n",
            "Get:11 http://archive.ubuntu.com/ubuntu bionic-updates InRelease [88.7 kB]\n",
            "Get:12 http://ppa.launchpad.net/graphics-drivers/ppa/ubuntu bionic InRelease [21.3 kB]\n",
            "Get:13 http://security.ubuntu.com/ubuntu bionic-security/universe amd64 Packages [1,370 kB]\n",
            "Get:14 http://archive.ubuntu.com/ubuntu bionic-backports InRelease [74.6 kB]\n",
            "Get:15 http://ppa.launchpad.net/c2d4u.team/c2d4u4.0+/ubuntu bionic/main Sources [1,693 kB]\n",
            "Get:16 http://archive.ubuntu.com/ubuntu bionic-updates/universe amd64 Packages [2,134 kB]\n",
            "Get:17 http://archive.ubuntu.com/ubuntu bionic-updates/main amd64 Packages [2,243 kB]\n",
            "Get:18 http://ppa.launchpad.net/c2d4u.team/c2d4u4.0+/ubuntu bionic/main amd64 Packages [867 kB]\n",
            "Get:19 http://ppa.launchpad.net/graphics-drivers/ppa/ubuntu bionic/main amd64 Packages [46.5 kB]\n",
            "Fetched 8,646 kB in 6s (1,341 kB/s)\n",
            "Reading package lists... Done\n"
          ],
          "name": "stdout"
        }
      ]
    },
    {
      "cell_type": "code",
      "metadata": {
        "colab": {
          "base_uri": "https://localhost:8080/"
        },
        "id": "EO93eWXFJBKa",
        "outputId": "26377b99-827c-44c7-cd07-7f344090316e"
      },
      "source": [
        "!wget https://jdbc.postgresql.org/download/postgresql-42.2.9.jar"
      ],
      "execution_count": 2,
      "outputs": [
        {
          "output_type": "stream",
          "text": [
            "--2020-12-05 23:03:48--  https://jdbc.postgresql.org/download/postgresql-42.2.9.jar\n",
            "Resolving jdbc.postgresql.org (jdbc.postgresql.org)... 72.32.157.228, 2001:4800:3e1:1::228\n",
            "Connecting to jdbc.postgresql.org (jdbc.postgresql.org)|72.32.157.228|:443... connected.\n",
            "HTTP request sent, awaiting response... 200 OK\n",
            "Length: 914037 (893K) [application/java-archive]\n",
            "Saving to: ‘postgresql-42.2.9.jar’\n",
            "\n",
            "postgresql-42.2.9.j 100%[===================>] 892.61K  1.02MB/s    in 0.9s    \n",
            "\n",
            "2020-12-05 23:03:50 (1.02 MB/s) - ‘postgresql-42.2.9.jar’ saved [914037/914037]\n",
            "\n"
          ],
          "name": "stdout"
        }
      ]
    },
    {
      "cell_type": "code",
      "metadata": {
        "id": "ur1SXqq5JgXe"
      },
      "source": [
        "from pyspark.sql import SparkSession\n",
        "spark = SparkSession.builder.appName(\"tech-hub-ml\").config(\"spark.driver.extraClassPath\",\"/content/postgresql-42.2.9.jar\").getOrCreate()"
      ],
      "execution_count": 3,
      "outputs": []
    },
    {
      "cell_type": "code",
      "metadata": {
        "colab": {
          "base_uri": "https://localhost:8080/"
        },
        "id": "ssvPT9SLJkpe",
        "outputId": "e9cb27dd-2724-4755-a32f-95fef6f1839f"
      },
      "source": [
        "from pyspark import SparkFiles\n",
        "\n",
        "# Load in raw-census.csv from S3 into a DataFrame\n",
        "census_url = \"https://tech-hub-ml.s3.amazonaws.com/raw-census.csv\"\n",
        "spark.sparkContext.addFile(census_url)\n",
        "\n",
        "# Spark dataframe\n",
        "df_census = spark.read.option('header', 'true').csv(SparkFiles.get(\"raw-census.csv\"), inferSchema=True, sep=',', timestampFormat=\"mm/dd/yy\")\n",
        "df_census.show(10)"
      ],
      "execution_count": 51,
      "outputs": [
        {
          "output_type": "stream",
          "text": [
            "+-----------------+---------------+-----------------+----------------------+---------------+-----------------+---------------------+--------------------+--------+\n",
            "|Income per capita|Median Age Male|Median Age Female|Bachelor's degree > 25|Total Education|Median Home Value|Public transportation|Total transportation|Zip Code|\n",
            "+-----------------+---------------+-----------------+----------------------+---------------+-----------------+---------------------+--------------------+--------+\n",
            "|             6999|           39.5|             41.3|                  1781|          11838|            86200|                    0|                3453|     601|\n",
            "|             9277|           41.9|             42.8|                  3692|          27411|            86300|                   32|               11444|     602|\n",
            "|            11307|           39.1|             42.9|                  5888|          34274|           122400|                   35|               11908|     603|\n",
            "|             5943|           43.2|             43.4|                   311|           4516|            91600|                    0|                1355|     606|\n",
            "|            10220|           40.4|             44.2|                  2498|          19164|            88600|                   23|                8391|     610|\n",
            "|            10549|           39.8|             44.7|                  7561|          42432|            97800|                  128|               14862|     612|\n",
            "|             9102|           39.4|             44.0|                  1328|           7713|            96100|                    0|                3071|     616|\n",
            "|             9122|           39.2|             41.0|                  2603|          16556|           106100|                   29|                5627|     617|\n",
            "|            11749|           50.3|             53.3|                   966|           5132|           129700|                    0|                1286|     622|\n",
            "|             8857|           41.2|             42.3|                  6081|          29877|           110500|                   10|               10898|     623|\n",
            "+-----------------+---------------+-----------------+----------------------+---------------+-----------------+---------------------+--------------------+--------+\n",
            "only showing top 10 rows\n",
            "\n"
          ],
          "name": "stdout"
        }
      ]
    },
    {
      "cell_type": "code",
      "metadata": {
        "colab": {
          "base_uri": "https://localhost:8080/"
        },
        "id": "EaBQT6ymTYZ6",
        "outputId": "84071fcc-084b-4946-f583-f22689118c8a"
      },
      "source": [
        "from pyspark.sql import functions as func\n",
        "\n",
        "# Convert education and transportation to a percentage of the population\n",
        "df_census = df_census.withColumn(\"Bachelor's degree > 25\", func.round(100*func.col(\"Bachelor's degree > 25\")/func.col(\"Total Education\"),2))\n",
        "df_census = df_census.withColumn(\"Public transportation\", func.round(100*func.col(\"Public transportation\")/func.col(\"Total transportation\"),2))\n",
        "\n",
        "# Remove Total Education and Total transportation columns\n",
        "df_census = df_census.drop(\"Total Education\", \"Total transportation\")\n",
        "df_census.show()"
      ],
      "execution_count": 52,
      "outputs": [
        {
          "output_type": "stream",
          "text": [
            "+-----------------+---------------+-----------------+----------------------+-----------------+---------------------+--------+\n",
            "|Income per capita|Median Age Male|Median Age Female|Bachelor's degree > 25|Median Home Value|Public transportation|Zip Code|\n",
            "+-----------------+---------------+-----------------+----------------------+-----------------+---------------------+--------+\n",
            "|             6999|           39.5|             41.3|                 15.04|            86200|                  0.0|     601|\n",
            "|             9277|           41.9|             42.8|                 13.47|            86300|                 0.28|     602|\n",
            "|            11307|           39.1|             42.9|                 17.18|           122400|                 0.29|     603|\n",
            "|             5943|           43.2|             43.4|                  6.89|            91600|                  0.0|     606|\n",
            "|            10220|           40.4|             44.2|                 13.03|            88600|                 0.27|     610|\n",
            "|            10549|           39.8|             44.7|                 17.82|            97800|                 0.86|     612|\n",
            "|             9102|           39.4|             44.0|                 17.22|            96100|                  0.0|     616|\n",
            "|             9122|           39.2|             41.0|                 15.72|           106100|                 0.52|     617|\n",
            "|            11749|           50.3|             53.3|                 18.82|           129700|                  0.0|     622|\n",
            "|             8857|           41.2|             42.3|                 20.35|           110500|                 0.09|     623|\n",
            "|             8696|           37.6|             38.1|                 18.57|            75800|                  0.0|     624|\n",
            "|            10252|           39.5|             42.8|                 16.04|           100200|                 0.18|     627|\n",
            "|             7863|           44.4|             51.0|                 11.18|            84700|                  0.0|     631|\n",
            "|             9586|           40.4|             43.4|                 16.49|            96600|                 0.88|     637|\n",
            "|             8485|           42.2|             41.8|                 12.02|            92100|                 0.34|     638|\n",
            "|             8739|           42.5|             43.6|                 14.87|            91800|                  0.0|     641|\n",
            "|            16462|           39.0|             40.9|                 21.58|           138700|                 0.44|     646|\n",
            "|             7556|           49.5|             47.9|                 15.93|            89600|                  0.0|     647|\n",
            "|             8799|           36.4|             41.5|                 11.01|            93000|                 0.21|     650|\n",
            "|            11156|           39.7|             39.9|                 18.21|            98700|                  0.0|     652|\n",
            "+-----------------+---------------+-----------------+----------------------+-----------------+---------------------+--------+\n",
            "only showing top 20 rows\n",
            "\n"
          ],
          "name": "stdout"
        }
      ]
    },
    {
      "cell_type": "code",
      "metadata": {
        "colab": {
          "base_uri": "https://localhost:8080/"
        },
        "id": "JM9OjcuyMVlA",
        "outputId": "61a729e2-98a1-4512-e29b-54840944a53b"
      },
      "source": [
        "# Load in real_estate.csv from S3 into a DataFrame\n",
        "real_estate_url = \"https://techhubml.s3.amazonaws.com/real_estate.csv\"\n",
        "spark.sparkContext.addFile(real_estate_url)\n",
        "\n",
        "# Spark dataframe\n",
        "df_real_estate = spark.read.option('header', 'true').csv(SparkFiles.get(\"real_estate.csv\"), inferSchema=True, sep=',', timestampFormat=\"mm/dd/yy\")\n",
        "\n",
        "# Update Average RE Prices to two decimal places\n",
        "df_real_estate = df_real_estate.withColumn(\"Average RE Prices\", func.round(func.col(\"Average RE Prices\"),2))\n",
        "df_real_estate.show(10)"
      ],
      "execution_count": 71,
      "outputs": [
        {
          "output_type": "stream",
          "text": [
            "+--------+-----+----------+--------------------+-------------------+-----------------+\n",
            "|Zip Code|State|      City|               Metro|         CountyName|Average RE Prices|\n",
            "+--------+-----+----------+--------------------+-------------------+-----------------+\n",
            "|     501|   NY|Holtsville|New York-Newark-J...|     Suffolk County|        128202.92|\n",
            "|     602|   AL|    Auburn|      Auburn-Opelika|         Lee County|        114105.25|\n",
            "|     605|   AL| Aguadilla|              Dothan|     Houston County|         78791.83|\n",
            "|     606|   MO|    Neosho|              Joplin|      Newton County|         59377.75|\n",
            "|     610|   KY|    Anasco|                null|        Pike County|        108219.58|\n",
            "|     617|   AL|    Imbery|          Enterprise|      Coffee County|         101022.0|\n",
            "|     693|   PA|Greensburg|          Pittsburgh|Westmoreland County|         330761.5|\n",
            "|     705|   UT|  Aibonito|                null|        Kane County|        129276.08|\n",
            "|     734|   TX|     Ponce|             Midland|     Midland County|        320697.33|\n",
            "|     742|   CO|     Ceiba|                null|    Gunnison County|        303938.25|\n",
            "+--------+-----+----------+--------------------+-------------------+-----------------+\n",
            "only showing top 10 rows\n",
            "\n"
          ],
          "name": "stdout"
        }
      ]
    },
    {
      "cell_type": "code",
      "metadata": {
        "colab": {
          "base_uri": "https://localhost:8080/"
        },
        "id": "XUVZSF4aP2Rv",
        "outputId": "34bcae35-cadd-49d3-fc96-feb54c71113c"
      },
      "source": [
        "from pyspark.sql.types import StringType\n",
        "\n",
        "# Inner join of the two dataframes\n",
        "merged_df = df_real_estate.join(df_census, on = [\"Zip Code\"])\n",
        "\n",
        "# Add leading 0's to the zip code column\n",
        "merged_df = merged_df.withColumn(\"Zip Code\", func.format_string(\"%05d\",\"Zip Code\"))\n",
        "merged_df = merged_df.withColumn(\"Zip Code\", func.col(\"Zip Code\").cast(StringType()))\n",
        "merged_df.show(10)"
      ],
      "execution_count": 77,
      "outputs": [
        {
          "output_type": "stream",
          "text": [
            "+--------+-----+----------+--------------+-------------------+-----------------+-----------------+---------------+-----------------+----------------------+-----------------+---------------------+\n",
            "|Zip Code|State|      City|         Metro|         CountyName|Average RE Prices|Income per capita|Median Age Male|Median Age Female|Bachelor's degree > 25|Median Home Value|Public transportation|\n",
            "+--------+-----+----------+--------------+-------------------+-----------------+-----------------+---------------+-----------------+----------------------+-----------------+---------------------+\n",
            "|   00602|   AL|    Auburn|Auburn-Opelika|         Lee County|        114105.25|             9277|           41.9|             42.8|                 13.47|            86300|                 0.28|\n",
            "|   00606|   MO|    Neosho|        Joplin|      Newton County|         59377.75|             5943|           43.2|             43.4|                  6.89|            91600|                  0.0|\n",
            "|   00610|   KY|    Anasco|          null|        Pike County|        108219.58|            10220|           40.4|             44.2|                 13.03|            88600|                 0.27|\n",
            "|   00617|   AL|    Imbery|    Enterprise|      Coffee County|         101022.0|             9122|           39.2|             41.0|                 15.72|           106100|                 0.52|\n",
            "|   00693|   PA|Greensburg|    Pittsburgh|Westmoreland County|         330761.5|            10536|           39.2|             41.9|                 14.81|           107300|                 0.68|\n",
            "|   00705|   UT|  Aibonito|          null|        Kane County|        129276.08|            10562|           39.5|             43.7|                  13.8|           114200|                 0.19|\n",
            "|   00765|   CO| Ohio City|          null|    Gunnison County|        124190.58|            11174|           41.0|             45.5|                 14.89|            99900|                  0.0|\n",
            "|   00791|   NM|   Humacao|     Las Vegas|  San Miguel County|        244819.75|            12288|           40.2|             43.9|                 17.49|            97400|                 0.16|\n",
            "|   00917|   UT|  San Juan|          null|        Kane County|        348312.75|            13838|           44.2|             49.7|                 15.08|           114700|                10.41|\n",
            "|   01001|   MA|    Agawam|   Springfield|     Hampden County|        214379.33|            35135|           43.0|             48.8|                 19.26|           213000|                 0.91|\n",
            "+--------+-----+----------+--------------+-------------------+-----------------+-----------------+---------------+-----------------+----------------------+-----------------+---------------------+\n",
            "only showing top 10 rows\n",
            "\n"
          ],
          "name": "stdout"
        }
      ]
    },
    {
      "cell_type": "code",
      "metadata": {
        "colab": {
          "base_uri": "https://localhost:8080/"
        },
        "id": "59lvmo3XRMKK",
        "outputId": "509de7df-f4db-48dc-d6aa-0b381e912262"
      },
      "source": [
        "features_df = merged_df.drop(\"Metro\", \"Median Home Value\")\n",
        "features_df.show()"
      ],
      "execution_count": 78,
      "outputs": [
        {
          "output_type": "stream",
          "text": [
            "+--------+-----+------------+-------------------+-----------------+-----------------+---------------+-----------------+----------------------+---------------------+\n",
            "|Zip Code|State|        City|         CountyName|Average RE Prices|Income per capita|Median Age Male|Median Age Female|Bachelor's degree > 25|Public transportation|\n",
            "+--------+-----+------------+-------------------+-----------------+-----------------+---------------+-----------------+----------------------+---------------------+\n",
            "|   00602|   AL|      Auburn|         Lee County|        114105.25|             9277|           41.9|             42.8|                 13.47|                 0.28|\n",
            "|   00606|   MO|      Neosho|      Newton County|         59377.75|             5943|           43.2|             43.4|                  6.89|                  0.0|\n",
            "|   00610|   KY|      Anasco|        Pike County|        108219.58|            10220|           40.4|             44.2|                 13.03|                 0.27|\n",
            "|   00617|   AL|      Imbery|      Coffee County|         101022.0|             9122|           39.2|             41.0|                 15.72|                 0.52|\n",
            "|   00693|   PA|  Greensburg|Westmoreland County|         330761.5|            10536|           39.2|             41.9|                 14.81|                 0.68|\n",
            "|   00705|   UT|    Aibonito|        Kane County|        129276.08|            10562|           39.5|             43.7|                  13.8|                 0.19|\n",
            "|   00765|   CO|   Ohio City|    Gunnison County|        124190.58|            11174|           41.0|             45.5|                 14.89|                  0.0|\n",
            "|   00791|   NM|     Humacao|  San Miguel County|        244819.75|            12288|           40.2|             43.9|                 17.49|                 0.16|\n",
            "|   00917|   UT|    San Juan|        Kane County|        348312.75|            13838|           44.2|             49.7|                 15.08|                10.41|\n",
            "|   01001|   MA|      Agawam|     Hampden County|        214379.33|            35135|           43.0|             48.8|                 19.26|                 0.91|\n",
            "|   01002|   MA|     Amherst|   Hampshire County|        333981.83|            29499|           23.3|             23.7|                 25.55|                10.64|\n",
            "|   01003|   MA|     Amherst|   Hampshire County|        272621.92|             4590|           19.9|             20.1|                 11.02|                 2.98|\n",
            "|   01005|   MA|       Barre|   Worcester County|        231814.42|            35190|           48.4|             47.5|                 17.23|                  0.0|\n",
            "|   01007|   MA| Belchertown|   Hampshire County|        284093.17|            42021|           39.6|             46.0|                 24.43|                 0.59|\n",
            "|   01008|   MA|   Blandford|     Hampden County|        231081.17|            36847|           53.3|             51.7|                 19.81|                  0.0|\n",
            "|   01009|   TX|        Nome|   Jefferson County|        176413.92|            32651|           34.8|             58.2|                 33.84|                  0.0|\n",
            "|   01010|   MA|   Brimfield|     Hampden County|        260012.75|            38489|           46.4|             48.1|                 19.27|                  0.0|\n",
            "|   01011|   MA|     Chester|     Hampden County|        170112.75|            30923|           47.5|             45.2|                 11.84|                  0.0|\n",
            "|   01012|   MA|Chesterfield|   Hampshire County|        248846.75|            37325|           45.8|             55.5|                 15.84|                  0.0|\n",
            "|   01013|   MA|    Chicopee|     Hampden County|        187029.42|            23656|           34.0|             36.9|                 11.77|                 1.53|\n",
            "+--------+-----+------------+-------------------+-----------------+-----------------+---------------+-----------------+----------------------+---------------------+\n",
            "only showing top 20 rows\n",
            "\n"
          ],
          "name": "stdout"
        }
      ]
    },
    {
      "cell_type": "code",
      "metadata": {
        "id": "U6zI-Sa8Sz5s"
      },
      "source": [
        ""
      ],
      "execution_count": null,
      "outputs": []
    }
  ]
}